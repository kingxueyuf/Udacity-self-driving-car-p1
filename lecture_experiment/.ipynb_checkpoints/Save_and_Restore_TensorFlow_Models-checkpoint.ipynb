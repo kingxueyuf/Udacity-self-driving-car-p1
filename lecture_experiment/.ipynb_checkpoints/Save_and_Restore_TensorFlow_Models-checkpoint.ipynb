{
 "cells": [
  {
   "cell_type": "code",
   "execution_count": 5,
   "metadata": {},
   "outputs": [
    {
     "name": "stdout",
     "output_type": "stream",
     "text": [
      "Weights:\n",
      "[[ 1.1529409  -0.08343561  0.05438997]\n",
      " [ 0.51665634 -1.0043689   0.8652352 ]]\n",
      "Bias:\n",
      "[ 0.14702782 -0.06600534 -0.5698212 ]\n",
      "Weight:\n",
      "[[ 0.70708704 -1.0631727   1.4698142 ]\n",
      " [-0.89533293 -1.0323439  -1.6169302 ]]\n",
      "Bias:\n",
      "[ 0.29600188 -1.1433604  -1.1656803 ]\n"
     ]
    }
   ],
   "source": [
    "import tensorflow as tf\n",
    "\n",
    "#Save Variables\n",
    "\n",
    "save_file = \"check_point/model.ckpt\"\n",
    "\n",
    "weights = tf.Variable(tf.truncated_normal([2, 3]))\n",
    "bias = tf.Variable(tf.truncated_normal([3]))\n",
    "\n",
    "saver = tf.train.Saver()\n",
    "with tf.Session() as sess:\n",
    "    sess.run(tf.global_variables_initializer())\n",
    "    \n",
    "    print('Weights:')\n",
    "    print(sess.run(weights))\n",
    "    print('Bias:')\n",
    "    print(sess.run(bias))\n",
    "    \n",
    "    saver.save(sess, save_file)\n",
    "          \n",
    "          \n",
    "#Load Variables\n",
    "          \n",
    "tf.reset_default_graph()\n",
    "\n",
    "weights = tf.Variable(tf.truncated_normal([2,3]))\n",
    "bias = tf.Variable(tf.truncated_normal([3]))\n",
    "\n",
    "saver = tf.train.Saver()\n",
    "          \n",
    "with tf.Session() as sess:\n",
    "    saver.restore(sess, save_file)\n",
    "\n",
    "    print('Weight:')\n",
    "    print(sess.run(weights))\n",
    "    print('Bias:')\n",
    "    print(sess.run(bias))"
   ]
  },
  {
   "cell_type": "code",
   "execution_count": 8,
   "metadata": {},
   "outputs": [
    {
     "name": "stdout",
     "output_type": "stream",
     "text": [
      "Extracting ./train-images-idx3-ubyte.gz\n",
      "Extracting ./train-labels-idx1-ubyte.gz\n",
      "Extracting ./t10k-images-idx3-ubyte.gz\n",
      "Extracting ./t10k-labels-idx1-ubyte.gz\n",
      "Epoch 0   = Validation Accuracy: 0.1462000012397766\n",
      "Epoch 10  = Validation Accuracy: 0.30559998750686646\n",
      "Epoch 20  = Validation Accuracy: 0.4480000138282776\n",
      "Epoch 30  = Validation Accuracy: 0.5378000140190125\n",
      "Epoch 40  = Validation Accuracy: 0.5911999940872192\n",
      "Epoch 50  = Validation Accuracy: 0.6299999952316284\n",
      "Epoch 60  = Validation Accuracy: 0.6588000059127808\n",
      "Epoch 70  = Validation Accuracy: 0.6876000165939331\n",
      "Epoch 80  = Validation Accuracy: 0.7092000246047974\n",
      "Epoch 90  = Validation Accuracy: 0.7215999960899353\n",
      "Trained Model Saved.\n"
     ]
    }
   ],
   "source": [
    "tf.reset_default_graph()\n",
    "\n",
    "from tensorflow.examples.tutorials.mnist import input_data\n",
    "import numpy as np\n",
    "\n",
    "learning_rate = 1e-3\n",
    "n_input = 784\n",
    "n_classes = 10\n",
    "\n",
    "mnist = input_data.read_data_sets('.', one_hot=True)\n",
    "\n",
    "features = tf.placeholder(tf.float32, [None, n_input])\n",
    "labels = tf.placeholder(tf.float32, [None, n_classes])\n",
    "\n",
    "weights = tf.Variable(tf.random_normal([n_input, n_classes]))\n",
    "bias = tf.Variable(tf.random_normal([n_classes]))\n",
    "\n",
    "logits = tf.add(tf.matmul(features, weights), bias)\n",
    "\n",
    "cost = tf.reduce_mean(tf.nn.softmax_cross_entropy_with_logits(logits=logits,labels= labels))\n",
    "optimizer = tf.train.GradientDescentOptimizer(learning_rate = learning_rate).minimize(cost)\n",
    "\n",
    "correct_prediction = tf.equal(tf.argmax(logits,1), tf.argmax(labels,1))\n",
    "accuracy = tf.reduce_mean(tf.cast(correct_prediction, tf.float32))\n",
    "\n",
    "\n",
    "import math\n",
    "\n",
    "save_file = \"check_point/train_model.ckpt\"\n",
    "batch_size = 128\n",
    "n_epochs = 100\n",
    "\n",
    "save = tf.train.Saver()\n",
    "\n",
    "with tf.Session() as sess:\n",
    "    sess.run(tf.global_variables_initializer())\n",
    "    \n",
    "    for epoch in range(n_epochs):\n",
    "        total_batch = math.ceil(mnist.train.num_examples / batch_size)\n",
    "        \n",
    "        for i in range(total_batch):\n",
    "            batch_features, batch_labels = mnist.train.next_batch(batch_size)\n",
    "            sess.run(optimizer, feed_dict={features: batch_features, labels: batch_labels})\n",
    "            \n",
    "        if epoch % 10 == 0:\n",
    "            valid_accuracy = sess.run(\n",
    "                accuracy,\n",
    "                feed_dict = {\n",
    "                    features: mnist.validation.images,\n",
    "                    labels: mnist.validation.labels\n",
    "                }\n",
    "            )\n",
    "            print('Epoch {:<3} = Validation Accuracy: {}'.format(\n",
    "                epoch,\n",
    "                valid_accuracy\n",
    "            ))\n",
    "    saver.save(sess, save_file)\n",
    "    print('Trained Model Saved.')\n",
    "    "
   ]
  },
  {
   "cell_type": "code",
   "execution_count": null,
   "metadata": {},
   "outputs": [],
   "source": [
    "saver = tf.train.Saver()\n",
    "\n",
    "with tf.Session() as sess:\n",
    "    saver.restore(sess, save_file)\n",
    "    \n",
    "    test_accuracy = sess.run(\n",
    "    accuracy,\n",
    "    feed_dict={features: mnist.test.images, labels: mnist.test.labels})\n",
    "    \n",
    "print('Test Accuracy: {}'.format(test_accuracy))"
   ]
  }
 ],
 "metadata": {
  "kernelspec": {
   "display_name": "Python 3",
   "language": "python",
   "name": "python3"
  },
  "language_info": {
   "codemirror_mode": {
    "name": "ipython",
    "version": 3
   },
   "file_extension": ".py",
   "mimetype": "text/x-python",
   "name": "python",
   "nbconvert_exporter": "python",
   "pygments_lexer": "ipython3",
   "version": "3.5.2"
  },
  "widgets": {
   "state": {},
   "version": "1.1.2"
  }
 },
 "nbformat": 4,
 "nbformat_minor": 2
}
