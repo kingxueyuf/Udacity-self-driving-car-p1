{
 "cells": [
  {
   "cell_type": "code",
   "execution_count": 4,
   "metadata": {},
   "outputs": [],
   "source": [
    "import matplotlib.pyplot as plt\n",
    "import matplotlib.image as mpimg\n",
    "import numpy as np\n",
    "import cv2\n",
    "%matplotlib inline\n",
    "import math\n",
    "import os\n",
    "from moviepy.editor import VideoFileClip\n",
    "from IPython.display import HTML\n",
    "\n",
    "###################################################################\n",
    "# Helper from https://github.com/udacity/CarND-LaneLines-P1 start #\n",
    "###################################################################\n",
    "def grayscale(img):\n",
    "    return cv2.cvtColor(img, cv2.COLOR_RGB2GRAY)\n",
    "    \n",
    "def canny(img, low_threshold, high_threshold):\n",
    "    return cv2.Canny(img, low_threshold, high_threshold)\n",
    "\n",
    "def gaussian_blur(img, kernel_size):\n",
    "    return cv2.GaussianBlur(img, (kernel_size, kernel_size), 0)\n",
    "\n",
    "def region_of_interest(img, vertices):\n",
    "    mask = np.zeros_like(img)   \n",
    "    if len(img.shape) > 2:\n",
    "        channel_count = img.shape[2]\n",
    "        ignore_mask_color = (255,) * channel_count\n",
    "    else:\n",
    "        ignore_mask_color = 255   \n",
    "    cv2.fillPoly(mask, vertices, ignore_mask_color)\n",
    "    masked_image = cv2.bitwise_and(img, mask)\n",
    "    return masked_image\n",
    "\n",
    "def draw_lines(img, lines, color=[255, 0, 0], thickness=2):\n",
    "    for line in lines:\n",
    "        for x1,y1,x2,y2 in line:\n",
    "            cv2.line(img, (x1, y1), (x2, y2), color, thickness)\n",
    "\n",
    "def hough_lines(img, rho, theta, threshold, min_line_len, max_line_gap):\n",
    "    lines = cv2.HoughLinesP(img, rho, theta, threshold, np.array([]), minLineLength=min_line_len, maxLineGap=max_line_gap)\n",
    "    line_img = np.zeros((img.shape[0], img.shape[1], 3), dtype=np.uint8)\n",
    "    draw_lines(line_img, lines)\n",
    "    return line_img\n",
    "\n",
    "def weighted_img(img, initial_img, α=0.8, β=1., γ=0.):\n",
    "    return cv2.addWeighted(initial_img, α, img, β, γ)\n",
    "\n",
    "#################################################################\n",
    "# Helper from https://github.com/udacity/CarND-LaneLines-P1 end #\n",
    "#################################################################\n",
    "\n",
    "###########\n",
    "# My code #\n",
    "###########\n",
    "def draw_lines(img, lines, color=[255, 0, 0], thickness=2):\n",
    "    right_x1s = []\n",
    "    right_x2s = []\n",
    "    right_y1s = []\n",
    "    right_y2s = []\n",
    "    left_x1s = []\n",
    "    left_x2s = []\n",
    "    left_y1s = []\n",
    "    left_y2s = []\n",
    "    \n",
    "    for line in lines:\n",
    "        for x1,y1,x2,y2 in line:\n",
    "            if x1 == x2:\n",
    "                slope = 0\n",
    "            else:\n",
    "                slope = cal_slope(x1,y1,x2,y2)\n",
    "                if slope > 0.5 and slope < 0.8:\n",
    "                    # Right lane\n",
    "                    right_x1s.append(x1)\n",
    "                    right_x2s.append(x2)\n",
    "                    right_y1s.append(y1)\n",
    "                    right_y2s.append(y2)\n",
    "                elif slope > -0.8 and slope < -0.5:\n",
    "                    # Left lane\n",
    "                    left_x1s.append(x1)\n",
    "                    left_x2s.append(x2)\n",
    "                    left_y1s.append(y1)\n",
    "                    left_y2s.append(y2)\n",
    "    \n",
    "    right_line_points = cal_avg_two_point(img, right_x1s, right_x2s, right_y1s, right_y2s)\n",
    "    cv2.line(img,right_line_points[0],right_line_points[1],(255,0,0),10)\n",
    "    \n",
    "    left_line_points = cal_avg_two_point(img, left_x1s, left_x2s, left_y1s, left_y2s)\n",
    "    cv2.line(img,left_line_points[0],left_line_points[1],(255,0,0),10)\n",
    "    \n",
    "    return img\n",
    "    \n",
    "y_offset = 45\n",
    "def cal_avg_two_point(img, x1s, x2s, y1s, y2s):\n",
    "    # y = kx + b\n",
    "    # Calculate line slope, k\n",
    "    avg_x1 = np.average(x1s)\n",
    "    avg_x2 = np.average(x2s)\n",
    "    avg_y1 = np.average(y1s)\n",
    "    avg_y2 = np.average(y2s)\n",
    "    slope = cal_slope(avg_x1, avg_y1, avg_x2, avg_y2)\n",
    "    \n",
    "    # Calculate line, b\n",
    "    b = ((avg_y1 - slope * avg_x1) + (avg_y2 - slope * avg_x2)) / 2\n",
    "    \n",
    "    # Calculate top point on the line\n",
    "    top_y = img.shape[0] / 2 + y_offset\n",
    "    top_x = (top_y - b) / slope\n",
    "    \n",
    "    # Calculate bottom point on the line\n",
    "    bottom_y = img.shape[0]\n",
    "    bottom_x = (bottom_y - b) / slope\n",
    "    \n",
    "    # Convert float to int\n",
    "    top_y = int(top_y)\n",
    "    top_x = int(top_x)\n",
    "    bottom_y = int(bottom_y)\n",
    "    bottom_x = int(bottom_x)\n",
    "    return [(top_x,top_y),(bottom_x,bottom_y)]\n",
    "\n",
    "def cal_slope (x1,y1,x2,y2):\n",
    "    return (y2-y1) / (x2-x1)\n",
    "    \n",
    "def hough_lines(img, rho, theta, threshold, min_line_len, max_line_gap):\n",
    "    lines = cv2.HoughLinesP(img, rho, theta, threshold, np.array([]), minLineLength=min_line_len, maxLineGap=max_line_gap)\n",
    "    line_img = np.zeros((img.shape[0], img.shape[1], 3), dtype=np.uint8)\n",
    "    draw_lines(line_img, lines)\n",
    "    return line_img\n",
    "\n",
    "def hough_lines_on_region_of_interest(image_canny, \n",
    "                                      left_bottom, left_top, right_top, right_bottom,\n",
    "                                        rho, theta, threshold, min_line_len, max_line_gap):\n",
    "    vertices = np.array([[left_bottom, left_top, right_top, right_bottom]], dtype=np.int32)\n",
    "    image_region_of_interest = region_of_interest(image_canny, vertices)\n",
    "    image_lines = hough_lines(image_region_of_interest, rho, theta, threshold, min_line_len, max_line_gap)\n",
    "    plt.imshow(image_lines)\n",
    "    return image_lines\n",
    "\n",
    "image_name_tmp = 0\n",
    "def process_image_internal(image, write_image=False):\n",
    "    image_origin = image[:,:,:3]\n",
    "    # Step 1): Grayscale\n",
    "    image_gray = grayscale(image)\n",
    "\n",
    "    # Step 2): Guassian smooth\n",
    "    gaussian_blur_kernal_size = 3\n",
    "    image_gaussian = gaussian_blur(image_gray, gaussian_blur_kernal_size)\n",
    "    \n",
    "    # Step 3): Canny edge\n",
    "    canny_low_threshold = 100\n",
    "    canny_high_threshold = 180\n",
    "    \n",
    "    image_canny = canny(image_gaussian, canny_low_threshold, canny_high_threshold)\n",
    "    \n",
    "    # Step 4): Crop the image, leave only the region of interest\n",
    "    left_bottom = (0 + image.shape[1] / 6 , image.shape[0]) #Python tuple\n",
    "    left_top = (0 + image.shape[1] / 6, image.shape[0] / 2)\n",
    "    right_top = (image.shape[1] - image.shape[1] / 6, image.shape[0] / 2)\n",
    "    right_bottom = (image.shape[1] - image.shape[1] / 6, image.shape[0])\n",
    " \n",
    "    rho = 2\n",
    "    theta = np.pi/180\n",
    "    threshold = 15\n",
    "    min_line_len = 5\n",
    "    max_line_gap = 10\n",
    "    image_lines = hough_lines_on_region_of_interest(image_canny, \n",
    "                                                           left_bottom, left_top, right_top, right_bottom, \n",
    "                                                           rho, theta, threshold, min_line_len, max_line_gap)\n",
    "    \n",
    "    # Step 5): Add line image to original image\n",
    "    image_result = weighted_img(image_lines, image_origin)\n",
    "    \n",
    "    # Write result image \"test_images_output/\" folder\n",
    "    if write_image:\n",
    "        global image_name_tmp \n",
    "        image_name_tmp += 1\n",
    "        mpimg.imsave(\"challenge_images/\" + str(image_name_tmp) +\".jpg\", image)\n",
    "        mpimg.imsave(\"challenge_images_output/\" + str(image_name_tmp) +\".jpg\", image_result)\n",
    "    return image_result\n",
    "\n",
    "def process_image(image):\n",
    "    return process_image_internal(image, False)\n",
    "\n",
    "#######################################\n",
    "# File clean up util for test purpose #\n",
    "#######################################\n",
    "test_images_output_folder = \"test_images_output/\"\n",
    "test_videos_output_folder = \"test_videos_output/\"\n",
    "def clean_up_output():\n",
    "    # Delete all files inside \"test_images_output/\" folder\n",
    "    for the_file in os.listdir(test_images_output_folder):\n",
    "        file_path = os.path.join(test_images_output_folder, the_file)\n",
    "        try:\n",
    "            if os.path.isfile(file_path):\n",
    "                os.unlink(file_path)\n",
    "        except Exception as e:\n",
    "            print(e)\n",
    "            \n",
    "    # Delete all files inside \"test_videos_output/\" folder\n",
    "    for the_file in os.listdir(test_videos_output_folder):\n",
    "        file_path = os.path.join(test_videos_output_folder, the_file)\n",
    "        try:\n",
    "            if os.path.isfile(file_path):\n",
    "                os.unlink(file_path)\n",
    "        except Exception as e:\n",
    "            print(e)\n",
    "            \n",
    "challenge_images = \"challenge_images/\"\n",
    "challenge_images_output = \"challenge_images_output/\"\n",
    "test_images = \"test_images/\"\n",
    "def process_challenge_images():\n",
    "    count = 0\n",
    "    images = os.listdir(challenge_images)\n",
    "    for img_file in images:\n",
    "        image = mpimg.imread(challenge_images + img_file)\n",
    "        process_image(image)\n",
    "        if count == 100:\n",
    "            break\n",
    "        count += 1\n",
    "        \n",
    "# # process_video()\n",
    "# process_challenge_images()"
   ]
  },
  {
   "cell_type": "code",
   "execution_count": 5,
   "metadata": {},
   "outputs": [
    {
     "name": "stdout",
     "output_type": "stream",
     "text": [
      "[MoviePy] >>>> Building video test_videos_output/solidWhiteRight.mp4\n",
      "[MoviePy] Writing video test_videos_output/solidWhiteRight.mp4\n"
     ]
    },
    {
     "name": "stderr",
     "output_type": "stream",
     "text": [
      "100%|█████████▉| 221/222 [00:05<00:00, 41.35it/s]\n"
     ]
    },
    {
     "name": "stdout",
     "output_type": "stream",
     "text": [
      "[MoviePy] Done.\n",
      "[MoviePy] >>>> Video ready: test_videos_output/solidWhiteRight.mp4 \n",
      "\n",
      "CPU times: user 5.26 s, sys: 747 ms, total: 6 s\n",
      "Wall time: 5.74 s\n"
     ]
    },
    {
     "data": {
      "image/png": "[encoded data removed]",
      "text/plain": [
       "<matplotlib.figure.Figure at 0x189b86e10>"
      ]
     },
     "metadata": {},
     "output_type": "display_data"
    }
   ],
   "source": [
    "########################################\n",
    "# Test test_videos/solidWhiteRight.mp4 #\n",
    "########################################\n",
    "\n",
    "white_output = 'test_videos_output/solidWhiteRight.mp4'\n",
    "# clip1 = VideoFileClip(\"test_videos/solidWhiteRight.mp4\").subclip(0,5)\n",
    "clip1 = VideoFileClip(\"test_videos/solidWhiteRight.mp4\")\n",
    "white_clip = clip1.fl_image(process_image) #NOTE: this function expects color images!!\n",
    "%time white_clip.write_videofile(white_output, audio=False)"
   ]
  },
  {
   "cell_type": "code",
   "execution_count": 6,
   "metadata": {},
   "outputs": [
    {
     "data": {
      "text/html": [
       "\n",
       "<video width=\"960\" height=\"540\" controls>\n",
       "  <source src=\"test_videos_output/solidWhiteRight.mp4\">\n",
       "</video>\n"
      ],
      "text/plain": [
       "<IPython.core.display.HTML object>"
      ]
     },
     "execution_count": 6,
     "metadata": {},
     "output_type": "execute_result"
    }
   ],
   "source": [
    "HTML(\"\"\"\n",
    "<video width=\"960\" height=\"540\" controls>\n",
    "  <source src=\"{0}\">\n",
    "</video>\n",
    "\"\"\".format(white_output))"
   ]
  },
  {
   "cell_type": "code",
   "execution_count": 7,
   "metadata": {},
   "outputs": [
    {
     "name": "stdout",
     "output_type": "stream",
     "text": [
      "[MoviePy] >>>> Building video test_videos_output/solidYellowLeft.mp4\n",
      "[MoviePy] Writing video test_videos_output/solidYellowLeft.mp4\n"
     ]
    },
    {
     "name": "stderr",
     "output_type": "stream",
     "text": [
      "100%|█████████▉| 681/682 [00:18<00:00, 36.93it/s]\n"
     ]
    },
    {
     "name": "stdout",
     "output_type": "stream",
     "text": [
      "[MoviePy] Done.\n",
      "[MoviePy] >>>> Video ready: test_videos_output/solidYellowLeft.mp4 \n",
      "\n",
      "CPU times: user 17.8 s, sys: 2.52 s, total: 20.4 s\n",
      "Wall time: 18.9 s\n"
     ]
    },
    {
     "data": {
      "image/png": "[encoded data removed]",
      "text/plain": [
       "<matplotlib.figure.Figure at 0x189b7cd30>"
      ]
     },
     "metadata": {},
     "output_type": "display_data"
    }
   ],
   "source": [
    "########################################\n",
    "# Test test_videos/solidYellowLeft.mp4 #\n",
    "########################################\n",
    "yellow_output = 'test_videos_output/solidYellowLeft.mp4'\n",
    "\n",
    "# clip2 = VideoFileClip('test_videos/solidYellowLeft.mp4').subclip(0,5)\n",
    "clip2 = VideoFileClip('test_videos/solidYellowLeft.mp4')\n",
    "yellow_clip = clip2.fl_image(process_image)\n",
    "%time yellow_clip.write_videofile(yellow_output, audio=False)"
   ]
  },
  {
   "cell_type": "code",
   "execution_count": 8,
   "metadata": {},
   "outputs": [
    {
     "data": {
      "text/html": [
       "\n",
       "<video width=\"960\" height=\"540\" controls>\n",
       "  <source src=\"test_videos_output/solidYellowLeft.mp4\">\n",
       "</video>\n"
      ],
      "text/plain": [
       "<IPython.core.display.HTML object>"
      ]
     },
     "execution_count": 8,
     "metadata": {},
     "output_type": "execute_result"
    }
   ],
   "source": [
    "HTML(\"\"\"\n",
    "<video width=\"960\" height=\"540\" controls>\n",
    "  <source src=\"{0}\">\n",
    "</video>\n",
    "\"\"\".format(yellow_output))"
   ]
  },
  {
   "cell_type": "code",
   "execution_count": 9,
   "metadata": {},
   "outputs": [
    {
     "name": "stdout",
     "output_type": "stream",
     "text": [
      "[MoviePy] >>>> Building video test_videos_output/challenge.mp4\n",
      "[MoviePy] Writing video test_videos_output/challenge.mp4\n"
     ]
    },
    {
     "name": "stderr",
     "output_type": "stream",
     "text": [
      "100%|██████████| 251/251 [00:13<00:00, 19.19it/s]\n"
     ]
    },
    {
     "name": "stdout",
     "output_type": "stream",
     "text": [
      "[MoviePy] Done.\n",
      "[MoviePy] >>>> Video ready: test_videos_output/challenge.mp4 \n",
      "\n",
      "CPU times: user 12.2 s, sys: 1.59 s, total: 13.7 s\n",
      "Wall time: 13.9 s\n"
     ]
    },
    {
     "data": {
      "image/png": "[encoded data removed]",
      "text/plain": [
       "<matplotlib.figure.Figure at 0x15b270b70>"
      ]
     },
     "metadata": {},
     "output_type": "display_data"
    }
   ],
   "source": [
    "challenge_output = 'test_videos_output/challenge.mp4'\n",
    "## To speed up the testing process you may want to try your pipeline on a shorter subclip of the video\n",
    "## To do so add .subclip(start_second,end_second) to the end of the line below\n",
    "## Where start_second and end_second are integer values representing the start and end of the subclip\n",
    "## You may also uncomment the following line for a subclip of the first 5 seconds\n",
    "# clip3 = VideoFileClip('test_videos/challenge.mp4').subclip(0,5)\n",
    "clip3 = VideoFileClip('test_videos/challenge.mp4')\n",
    "challenge_clip = clip3.fl_image(process_image)\n",
    "%time challenge_clip.write_videofile(challenge_output, audio=False)"
   ]
  },
  {
   "cell_type": "code",
   "execution_count": 10,
   "metadata": {},
   "outputs": [
    {
     "data": {
      "text/html": [
       "\n",
       "<video width=\"960\" height=\"540\" controls>\n",
       "  <source src=\"test_videos_output/challenge.mp4\">\n",
       "</video>\n"
      ],
      "text/plain": [
       "<IPython.core.display.HTML object>"
      ]
     },
     "execution_count": 10,
     "metadata": {},
     "output_type": "execute_result"
    }
   ],
   "source": [
    "HTML(\"\"\"\n",
    "<video width=\"960\" height=\"540\" controls>\n",
    "  <source src=\"{0}\">\n",
    "</video>\n",
    "\"\"\".format(challenge_output))"
   ]
  },
  {
   "cell_type": "code",
   "execution_count": null,
   "metadata": {},
   "outputs": [],
   "source": []
  }
 ],
 "metadata": {
  "kernelspec": {
   "display_name": "Python 3",
   "language": "python",
   "name": "python3"
  },
  "language_info": {
   "codemirror_mode": {
    "name": "ipython",
    "version": 3
   },
   "file_extension": ".py",
   "mimetype": "text/x-python",
   "name": "python",
   "nbconvert_exporter": "python",
   "pygments_lexer": "ipython3",
   "version": "3.5.2"
  },
  "widgets": {
   "state": {},
   "version": "1.1.2"
  }
 },
 "nbformat": 4,
 "nbformat_minor": 2
}
